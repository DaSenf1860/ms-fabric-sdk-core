{
 "cells": [
  {
   "cell_type": "code",
   "execution_count": null,
   "id": "beab1427-910e-4f70-9bf0-9c56e513ff7d",
   "metadata": {
    "microsoft": {
     "language": "python",
     "language_group": "synapse_pyspark"
    }
   },
   "outputs": [],
   "source": [
    "%pip install msfabricpysdkcore --quiet"
   ]
  },
  {
   "cell_type": "code",
   "execution_count": 4,
   "id": "c43194c3-9646-4941-92bb-e4558a816905",
   "metadata": {
    "microsoft": {
     "language": "python",
     "language_group": "synapse_pyspark"
    }
   },
   "outputs": [],
   "source": [
    "from msfabricpysdkcore import FabricClientCore\n",
    "\n",
    "fc = FabricClientCore()"
   ]
  },
  {
   "cell_type": "code",
   "execution_count": null,
   "id": "29244334",
   "metadata": {},
   "outputs": [],
   "source": [
    "print(fc.list_capacities())"
   ]
  },
  {
   "cell_type": "code",
   "execution_count": null,
   "id": "8190aac4-fed1-4414-9962-0e67f480915a",
   "metadata": {
    "microsoft": {
     "language": "python",
     "language_group": "synapse_pyspark"
    }
   },
   "outputs": [],
   "source": [
    "cap_source = fc.get_capacity(capacity_name=\"sweden20241122\")\n",
    "cap_target = fc.get_capacity(capacity_name=\"sweden20250123\")"
   ]
  },
  {
   "cell_type": "code",
   "execution_count": null,
   "id": "3d4daf5c-8330-4186-8067-ea81858a71a8",
   "metadata": {
    "microsoft": {
     "language": "python",
     "language_group": "synapse_pyspark"
    }
   },
   "outputs": [],
   "source": [
    "ws_in_cap = [ws for ws in fc.list_workspaces() if ws.capacity_id == cap_source.id]\n",
    "print([ws.display_name for ws in ws_in_cap])"
   ]
  },
  {
   "cell_type": "code",
   "execution_count": null,
   "id": "c27d7a6e-3963-48f5-bd06-9a67e05f6ac1",
   "metadata": {
    "microsoft": {
     "language": "python",
     "language_group": "synapse_pyspark"
    }
   },
   "outputs": [],
   "source": [
    "##### Move all workspaces from one capacity to another\n",
    "for ws in ws_in_cap:\n",
    "    ws.assign_to_capacity(cap_target.id)\n",
    "    print(f\"Assigned {ws.display_name} to {cap_target.display_name}\")"
   ]
  },
  {
   "cell_type": "code",
   "execution_count": null,
   "id": "a106afe1-1b6f-4690-bdd8-bc5d4e648b60",
   "metadata": {
    "microsoft": {
     "language": "python",
     "language_group": "synapse_pyspark"
    }
   },
   "outputs": [],
   "source": []
  }
 ],
 "metadata": {
  "dependencies": {},
  "kernel_info": {
   "name": "synapse_pyspark"
  },
  "kernelspec": {
   "display_name": "Python 3",
   "language": "python",
   "name": "python3"
  },
  "language_info": {
   "codemirror_mode": {
    "name": "ipython",
    "version": 3
   },
   "file_extension": ".py",
   "mimetype": "text/x-python",
   "name": "python",
   "nbconvert_exporter": "python",
   "pygments_lexer": "ipython3",
   "version": "3.11.9"
  },
  "microsoft": {
   "language": "python",
   "language_group": "synapse_pyspark",
   "ms_spell_check": {
    "ms_spell_check_language": "en"
   }
  },
  "nteract": {
   "version": "nteract-front-end@1.0.0"
  },
  "spark_compute": {
   "compute_id": "/trident/default",
   "session_options": {
    "conf": {
     "spark.synapse.nbs.session.timeout": "1200000"
    }
   }
  }
 },
 "nbformat": 4,
 "nbformat_minor": 5
}
